{
 "cells": [
  {
   "cell_type": "markdown",
   "metadata": {},
   "source": [
    "Challenge 1: Largest Palindrome\n",
    "A palindromic number reads the same both ways. For example, 1234321 is a palindrome. The largest palindrome made from the product of two two-digit numbers is 9009 = 91 × 99. Find the largest palindrome made from the product of two three-digit numbers. Afterward, write a brief explanation walking through your code's logic in markdown.\n"
   ]
  },
  {
   "cell_type": "code",
   "execution_count": 163,
   "metadata": {},
   "outputs": [
    {
     "name": "stdout",
     "output_type": "stream",
     "text": [
      "906609\n"
     ]
    }
   ],
   "source": [
    "def palindrome():\n",
    "    list_of_palindrome = []  \n",
    "    for x in range(100,1000):\n",
    "        for y in range(100,1000):\n",
    "            if str(x*y) == str(x*y)[::-1]:\n",
    "                list_of_palindrome.append(int(x*y))\n",
    "    print(max(list_of_palindrome)) \n",
    "\n",
    "palindrome() "
   ]
  },
  {
   "cell_type": "markdown",
   "metadata": {},
   "source": [
    "Find the palindrome numbers and list the largest\n",
    "Create empty list to add palindrom numbers.\n",
    "To find the three digit of palindrome, run the loop of all three digit from 100 to 999\n",
    "When the first for loop runs, x will print number 100 and second loop will run from 100 to 999.\n",
    "If multiple of two numbers (X * Y) and their reverse numbers [::-1] are equal, numbers aree palindrome. To reverse the number, change the number to string. Add the str(number) to the list and change back to integer.\n",
    "check the maximum\n",
    "call a functon\n",
    "906609 is multipe of 913 *993\n",
    "\n",
    "\n"
   ]
  },
  {
   "cell_type": "markdown",
   "metadata": {},
   "source": [
    "Challenge 2: Summation of Primes\n",
    "The sum of the primes below 10 is 2 + 3 + 5 + 7 = 17. Find the sum of all the primes below 2,000. Afterward, write a brief explanation walking through your code's logic in markdown."
   ]
  },
  {
   "cell_type": "code",
   "execution_count": 164,
   "metadata": {},
   "outputs": [
    {
     "name": "stdout",
     "output_type": "stream",
     "text": [
      "277050\n"
     ]
    }
   ],
   "source": [
    "def isPrime (number):\n",
    "    if number != 1:         \n",
    "        for f in range(2,number): \n",
    "            if number %  f == 0:     \n",
    "                return False           \n",
    "    else: \n",
    "        return False\n",
    "    return True\n",
    "# sum prime numbers of range from 2 below 2000\n",
    "sum = 0\n",
    "for f in range(2,2000):\n",
    "    if isPrime(f) == True:\n",
    "        sum += f\n",
    "print (sum)"
   ]
  },
  {
   "cell_type": "markdown",
   "metadata": {},
   "source": [
    "Defined prime numbers. \n",
    "First 'if statement' shows that 1 is not a prime number. Therefor nummbers are 2.3.4.5.6....\n",
    "Using for loop, search the number divided by a factor 2.3.4.5.. If number is divided, it is not prime number.\n",
    "Else, if number is one, it is not prime number. \n",
    "Then the rest is prime number.\n",
    "To sum the prime numbers, sum starts from zero. This will prevent the incremental of the results when I run the code several times. If the number is prime number below 2000, sum the number."
   ]
  },
  {
   "cell_type": "markdown",
   "metadata": {},
   "source": [
    "Challenge 3: Multiples of 3 and 5\n",
    "If we list all of the natural numbers below 10 that are multiples of 3 or 5, we get 3, 5, 6, and 9. The sum of these multiples is 23. Find the sum of all the multiples of 3 and 5 below 1,000. Afterward, write a brief explanation walking through your code's logic in markdown."
   ]
  },
  {
   "cell_type": "code",
   "execution_count": 165,
   "metadata": {},
   "outputs": [
    {
     "name": "stdout",
     "output_type": "stream",
     "text": [
      "233168\n"
     ]
    }
   ],
   "source": [
    "sum_multiple = 0\n",
    "# Find the numbers of multiples of 3 or 5 below 1000\n",
    "for m in range(1,1000):\n",
    "    if m % 3 == 0 or m % 5 == 0:\n",
    "        sum_multiple += m\n",
    "# Sum multiples   \n",
    "print (sum_multiple)"
   ]
  },
  {
   "cell_type": "markdown",
   "metadata": {},
   "source": [
    "Sum starts from zero.\n",
    "Find the multple of 3 or 5 below 1000.\n",
    "Then sum multiples. And print the results."
   ]
  },
  {
   "cell_type": "markdown",
   "metadata": {},
   "source": [
    "Challenge 4: String Compressor\n",
    "Implement a method to perform basic string compression using the counts of repeated characters. (This is called run-length encoding.) For example, the string \"aabcccccaaa\" would become a2b1c5a3. If the “compressed” string would not become smaller than the original string, your method should return the original string. You can assume the string has only uppercase and lowercase letters (a–z). Specify whether your solution is case sensitive or case insensitive and what you would need to change to make it the other. Afterward, write a brief explanation walking through your code's logic in markdown."
   ]
  },
  {
   "cell_type": "code",
   "execution_count": 166,
   "metadata": {},
   "outputs": [
    {
     "name": "stdout",
     "output_type": "stream",
     "text": [
      "h4a1p4p1\n",
      "abcd\n"
     ]
    }
   ],
   "source": [
    "input_1 = \"hhhhappppy\"\n",
    "input_2 = \"abcd\"\n",
    "def res (input_str):\n",
    "    comp_str = \"\"\n",
    "    count_num = 1\n",
    "     #input_str= input_str.lower()\n",
    "    for i in range(len(input_str)-1):\n",
    "        if input_str[i] == input_str[i+1]:\n",
    "            count_num += 1\n",
    "        else: \n",
    "            comp_str += input_str[i] + str(count_num)\n",
    "            count_num = 1\n",
    "    comp_str += input_str[i] + str(count_num)\n",
    "\n",
    "    if len(comp_str) >= len(input_str):\n",
    "        return input_str\n",
    "    else:\n",
    "        return comp_str\n",
    "    \n",
    "print(res(input_1))\n",
    "print(res(input_2))    "
   ]
  },
  {
   "cell_type": "markdown",
   "metadata": {},
   "source": [
    "Suppose there are lower case charcaters. It is case-sensitive.\n",
    "Starting from first character using loop, I will count it as 1 (count_num=1). Then will look at the next character. If it is equal to the previous character, I will add 1. If they are not equal, I will write the charater and 1. Append the comprssed string to comp_str efore moving to the next charactor.\n",
    "Then, compare the length of the original string and compresed string. Show the string with the smaller number of characters,\n",
    "Code is case sensitive. so by addin input_str= input_str.lower(), upper case string can be changed to lower case befor loop stars."
   ]
  },
  {
   "cell_type": "markdown",
   "metadata": {},
   "source": [
    "BONUS Challenge: FizzBuzz\n",
    "Write a program that prints all of the numbers from 1 to 100. For multiples of 3, instead of the number, print \"Fizz;\" for multiples of 5, print \"Buzz.\" For numbers that are multiples of both 3 and 5, print \"FizzBuzz.\" Afterward, write a brief explanation walking through your code's logic in markdown.\n"
   ]
  },
  {
   "cell_type": "code",
   "execution_count": 167,
   "metadata": {},
   "outputs": [
    {
     "name": "stdout",
     "output_type": "stream",
     "text": [
      "1\n",
      "2\n",
      "Fizz\n",
      "4\n",
      "Buzz\n",
      "Fizz\n",
      "7\n",
      "8\n",
      "Fizz\n",
      "Buzz\n",
      "11\n",
      "Fizz\n",
      "13\n",
      "14\n",
      "FizzBuzz\n",
      "16\n",
      "17\n",
      "Fizz\n",
      "19\n",
      "Buzz\n",
      "Fizz\n",
      "22\n",
      "23\n",
      "Fizz\n",
      "Buzz\n",
      "26\n",
      "Fizz\n",
      "28\n",
      "29\n",
      "FizzBuzz\n",
      "31\n",
      "32\n",
      "Fizz\n",
      "34\n",
      "Buzz\n",
      "Fizz\n",
      "37\n",
      "38\n",
      "Fizz\n",
      "Buzz\n",
      "41\n",
      "Fizz\n",
      "43\n",
      "44\n",
      "FizzBuzz\n",
      "46\n",
      "47\n",
      "Fizz\n",
      "49\n",
      "Buzz\n",
      "Fizz\n",
      "52\n",
      "53\n",
      "Fizz\n",
      "Buzz\n",
      "56\n",
      "Fizz\n",
      "58\n",
      "59\n",
      "FizzBuzz\n",
      "61\n",
      "62\n",
      "Fizz\n",
      "64\n",
      "Buzz\n",
      "Fizz\n",
      "67\n",
      "68\n",
      "Fizz\n",
      "Buzz\n",
      "71\n",
      "Fizz\n",
      "73\n",
      "74\n",
      "FizzBuzz\n",
      "76\n",
      "77\n",
      "Fizz\n",
      "79\n",
      "Buzz\n",
      "Fizz\n",
      "82\n",
      "83\n",
      "Fizz\n",
      "Buzz\n",
      "86\n",
      "Fizz\n",
      "88\n",
      "89\n",
      "FizzBuzz\n",
      "91\n",
      "92\n",
      "Fizz\n",
      "94\n",
      "Buzz\n",
      "Fizz\n",
      "97\n",
      "98\n",
      "Fizz\n"
     ]
    }
   ],
   "source": [
    "numfb =range(1,100)\n",
    "for fb in numfb:\n",
    "    if fb % 5 == 0 and fb % 3 == 0:\n",
    "        print(\"FizzBuzz\")\n",
    "    elif fb % 3 == 0:\n",
    "        print(\"Fizz\")\n",
    "    elif fb % 5 == 0:\n",
    "         print(\"Buzz\")\n",
    "    else:\n",
    "        print(fb)"
   ]
  },
  {
   "cell_type": "markdown",
   "metadata": {},
   "source": [
    "Numbfb's range is specified from 1 to 100.\n",
    "Loop will first mark FIZZBUZZ for numbers divided by both 3 and 5 as order of sequence matters. Then if number is not mutiples of 3 and 5, then code will check the multiples of 3 to print Fizz. Then code will check the multiples of 5 to print Buzz. If a number doesn't meet the condition above, it will just print out the number.\n"
   ]
  }
 ],
 "metadata": {
  "kernelspec": {
   "display_name": "Python 3",
   "language": "python",
   "name": "python3"
  },
  "language_info": {
   "codemirror_mode": {
    "name": "ipython",
    "version": 3
   },
   "file_extension": ".py",
   "mimetype": "text/x-python",
   "name": "python",
   "nbconvert_exporter": "python",
   "pygments_lexer": "ipython3",
   "version": "3.6.7"
  }
 },
 "nbformat": 4,
 "nbformat_minor": 2
}
